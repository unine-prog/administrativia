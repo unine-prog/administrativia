{
 "cells": [
  {
   "attachments": {},
   "cell_type": "markdown",
   "id": "2f54e77c-01e2-4191-8da2-9e50e5e68418",
   "metadata": {
    "id": "xaSu1K3BVFpj"
   },
   "source": [
    "# Programming (5AF2029)\n",
    "\n",
    "<img src=\"https://www.unine.ch/files/live/sites/communication/files/Logos/2022/unine_logo_couleur.png\" alt=\"unine logo\" width=\"180px\">\n",
    "\n",
    "[Prof. Eric Simon](mailto:eric.simon@unine.ch)"
   ]
  }
 ],
 "metadata": {
  "kernelspec": {
   "display_name": "Bash",
   "language": "bash",
   "name": "bash"
  },
  "language_info": {
   "codemirror_mode": "shell",
   "file_extension": ".sh",
   "mimetype": "text/x-sh",
   "name": "bash"
  }
 },
 "nbformat": 4,
 "nbformat_minor": 5
}
