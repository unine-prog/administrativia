{
 "cells": [
  {
   "attachments": {},
   "cell_type": "markdown",
   "metadata": {
    "id": "xaSu1K3BVFpj"
   },
   "source": [
    "# Programming (5AF2029)\n",
    "\n",
    "<img src=\"https://www.unine.ch/files/live/sites/communication/files/Logos/2022/unine_logo_couleur.png\" alt=\"unine logo\" width=\"180px\">\n",
    "\n",
    "[Prof. Eric Simon](mailto:eric.simon@unine.ch)"
   ]
  },
  {
   "cell_type": "markdown",
   "metadata": {
    "id": "tfpwG8TMpk_w"
   },
   "source": [
    "# Evaluation Requirements\n",
    "\n",
    "This notebook outlines the requirements for the semester project, along with the grading process and criteria on which the evaluation will be based."
   ]
  },
  {
   "cell_type": "markdown",
   "metadata": {
    "id": "C6wVRn-atmjB"
   },
   "source": [
    "# Deliverables\n",
    "\n",
    "* **mandatory** A Jupyter notebook (.ipynb) containing all the results of your project and the relevant explanations. The code should run on [Noto](https://noto.epfl.ch/).\n",
    "\n",
    "* **optional** If the project is large, you may split it accross several notebook files, less than three. Please link your notebooks logically and using hyperlinks so that I don't have to search for the files.\n",
    "* **optional** If your code justifies it, you may factor out certain functions or even modules inside Python scripts (.py). Beware that I will need these files as well for grading, so don't forget to make them available from your code independently from which account the code is running. The way you do it is up to you but it should require no manual intervention on my part.\n",
    "* **optional** If your project requires data that is not directly available using webscraping techniques (for example a dataset you acquired somewhere or an export from a third party), the file can be made available from your code independently from which account the code is running. The way you do this is up to you but it should require no manual intervention on my part."
   ]
  },
  {
   "cell_type": "markdown",
   "metadata": {
    "id": "lPFEkwmAyKB1"
   },
   "source": [
    "# Work\n",
    "\n",
    "**The grade will be individual.**\n",
    "\n",
    "You may work in small groups if you think it helps. In this case, document how it improved your project and learning experience.\n",
    "\n",
    "Note that I will randomly ask questions to participants individually regarding the progress of their project, so don't split up work to reduce load. Do it together in a way that everyone masters the entire project.\n",
    "\n",
    "The work takes place outside teaching hours, but I may and will use some frontal time to conduct coaching sessions where I will check into the progress and help you.\n",
    "\n"
   ]
  },
  {
   "cell_type": "markdown",
   "metadata": {
    "id": "Sav7Lev5zmC9"
   },
   "source": [
    "# AI\n",
    "\n",
    "**The use of AI is authorized and even encouraged.**\n",
    "\n",
    "Please document how you used AI tools to enhance your project (see Criteria below)\n",
    "\n",
    "Note that I will randomly ask questions regarding the content of the project, so don't have ChatGPT or Copilot simply generate code for you without understanding it.\n",
    "\n",
    "The same applies if you ask more experienced colleagues or friends."
   ]
  },
  {
   "cell_type": "markdown",
   "metadata": {
    "id": "3nmlMosy8X6v"
   },
   "source": [
    "# Grading Process\n",
    "\n",
    "I will grade essentially three milestones during the semester:\n",
    "\n",
    "1. Project plan (after a short time into the semester)\n",
    "2. Mid-term progress\n",
    "3. Final result\n",
    "\n",
    "Since the number of students may be too high for presentations, the grading will be based on the content and presentation of your deliverable (Jupyter notebook). Take extra care to use Markdown cells to document your work, and comments in your code. Have it proof-read and reviewed by a colleague if you can.\n",
    "\n",
    "Below are the criteria and their ponderation in the final grade."
   ]
  },
  {
   "cell_type": "markdown",
   "metadata": {
    "id": "2oJK1Itezjr5"
   },
   "source": [
    "# Criteria\n",
    "\n",
    "1. Project Planning and Design (10%)\n",
    "    - Criteria: Evaluate your ability to plan your work. This includes the clarity of the problem statement, the logical flow of your approach, and how well you have outlined your steps.\n",
    "    - Example: Does the student have a clear plan for tackling the problem? Have they broken down the problem into smaller, manageable tasks? Is there a clear structure for how they intend to implement their solution?\n",
    "    - Evidence: Initial project proposal or outline available early in the semester.\n",
    "      \n",
    "2. Code Quality (20%)\n",
    "    - Criteria: Assess the readability, structure, and efficiency of the code. Consider whether the code is well-commented, adheres to Python best practices, and is modular (uses functions or classes appropriately).\n",
    "    - Example: Is the code easy to read and understand? Are variables named appropriately? Does the student use functions or classes to avoid code repetition?\n",
    "    - Evidence: The final code in the Jupyter Notebook, with comments explaining key sections.\n",
    "\n",
    "3. Correctness and Functionality (30%)\n",
    "    - Criteria: Evaluate whether the code works as intended and solves the problem. Test the notebook with different inputs to check robustness.\n",
    "    - Example: Does the code produce the correct results for various test cases? Does it handle edge cases or invalid inputs gracefully?\n",
    "    - Evidence: Output cells in the Jupyter Notebook showing results of the code execution.\n",
    "\n",
    "4. Understanding of the Problem Domain (20%)\n",
    "    - Criteria: Gauge the student's understanding of the specific problem or issue they are tackling, especially if it relates to finance or another domain. This includes how well they have contextualized their solution and any domain-specific knowledge they have applied.\n",
    "    - Example: Has the student correctly interpreted the financial data? Do they understand the implications of their results? Have they used appropriate libraries or tools (e.g., Pandas for data manipulation, Matplotlib for visualization)?\n",
    "    - Evidence: Explanatory markdown cells within the notebook that discuss the problem, methodology, and results in the context of the problem domain.\n",
    "\n",
    "5. Use of External Resources (10%)\n",
    "    - Criteria: Evaluate how effectively the student has utilized external resources like AI tools, libraries, or online tutorials. This should also assess whether they have properly credited these resources.\n",
    "    - Example: Has the student appropriately used AI help (like ChatGPT) for debugging or optimizing their code? Have they acknowledged sources or inspirations taken from external resources?\n",
    "    - Evidence: References or citations within the notebook, and a brief reflection or footnote discussing how they used external resources.\n",
    "\n",
    "6. Presentation and Communication (10%)\n",
    "    - Criteria: Assess the clarity and professionalism of the notebook as a whole. This includes how well the student has communicated their findings, the use of visualizations, and the overall organization of the notebook.\n",
    "    - Example: Is the notebook well-organized with clear section headings? Are the visualizations (e.g., graphs) informative and well-labeled? Is the conclusion logically derived from the analysis?\n",
    "    - Evidence: The overall structure and presentation of the Jupyter Notebook, including markdown cells, plots, and summaries."
   ]
  },
  {
   "cell_type": "markdown",
   "metadata": {
    "id": "9L1RaiR09hWm"
   },
   "source": [
    "# Extra Credits / Penalties\n",
    "\n",
    "* Late work will be penalized, typically half the points removed.\n",
    "* Plagiarism, in the sense that you copied something from somewhere/someone/AI without understanding it, will be penalized, typically three quarters of the points removed.\n",
    "* Failure to respect the requirements above (no manual intervention, ability to run in Noto) will result in penalties, typically a few points and/or the request that you fix this asap.\n",
    "* Particularly creative solutions or ideas will be granted extra credits, typically a few bonus points.\n",
    "* Catching up on a late work will correct the penalty to some or full extent. For instance if you were sick for example, or for any good reason."
   ]
  },
  {
   "cell_type": "markdown",
   "metadata": {
    "id": "j0aEj-qa-OOL"
   },
   "source": [
    "# Retake\n",
    "\n",
    "If for any reason you fail to achieve a passing grade, or need to retake the exam because you failed so badly in another course you have to retry everything, the retake will be an **oral examination on the computer**. You will then have to answer a question and show in 30 minutes how you tackle the problem and draft the solution directly in a Jupyter notebook.\n",
    "\n",
    "The retake takes place during the official retake exam session according to faculty regulations (usually in August-September).\n",
    "\n",
    "The retake normally takes place with me and an independant expert appointed by the faculty."
   ]
  }
 ],
 "metadata": {
  "colab": {
   "authorship_tag": "ABX9TyOaih3ScUyXqTFB9/Lx+rCv",
   "provenance": [],
   "toc_visible": true
  },
  "kernelspec": {
   "display_name": "Python3",
   "language": "python",
   "name": "python3"
  },
  "language_info": {
   "codemirror_mode": {
    "name": "ipython",
    "version": 3
   },
   "file_extension": ".py",
   "mimetype": "text/x-python",
   "name": "python",
   "nbconvert_exporter": "python",
   "pygments_lexer": "ipython3",
   "version": "3.12.5"
  }
 },
 "nbformat": 4,
 "nbformat_minor": 4
}
